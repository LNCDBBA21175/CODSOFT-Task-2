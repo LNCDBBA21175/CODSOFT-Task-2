{
 "cells": [
  {
   "cell_type": "markdown",
   "id": "3939e727",
   "metadata": {},
   "source": [
    "# 🎬 Movie Rating Prediction with IMDb Dataset\n",
    "This notebook walks through **step-by-step** how to build a machine learning model to predict IMDb movie ratings using Python."
   ]
  },
  {
   "cell_type": "markdown",
   "id": "4358384f",
   "metadata": {},
   "source": [
    "## 1. Import Libraries"
   ]
  },
  {
   "cell_type": "code",
   "execution_count": 1,
   "id": "3a447611",
   "metadata": {},
   "outputs": [],
   "source": [
    "import pandas as pd\n",
    "import numpy as np\n",
    "import matplotlib.pyplot as plt\n",
    "from sklearn.model_selection import train_test_split\n",
    "from sklearn.metrics import mean_absolute_error, mean_squared_error, r2_score\n",
    "from sklearn.dummy import DummyRegressor\n",
    "from sklearn.linear_model import Ridge\n",
    "from sklearn.ensemble import RandomForestRegressor, GradientBoostingRegressor\n",
    "import joblib"
   ]
  },
  {
   "cell_type": "markdown",
   "id": "2c652512",
   "metadata": {},
   "source": [
    "## 2. Load Dataset"
   ]
  },
  {
   "cell_type": "code",
   "execution_count": 2,
   "id": "5b75d7a7",
   "metadata": {},
   "outputs": [
    {
     "data": {
      "text/html": [
       "<div>\n",
       "<style scoped>\n",
       "    .dataframe tbody tr th:only-of-type {\n",
       "        vertical-align: middle;\n",
       "    }\n",
       "\n",
       "    .dataframe tbody tr th {\n",
       "        vertical-align: top;\n",
       "    }\n",
       "\n",
       "    .dataframe thead th {\n",
       "        text-align: right;\n",
       "    }\n",
       "</style>\n",
       "<table border=\"1\" class=\"dataframe\">\n",
       "  <thead>\n",
       "    <tr style=\"text-align: right;\">\n",
       "      <th></th>\n",
       "      <th>Name</th>\n",
       "      <th>Year</th>\n",
       "      <th>Duration</th>\n",
       "      <th>Genre</th>\n",
       "      <th>Rating</th>\n",
       "      <th>Votes</th>\n",
       "      <th>Director</th>\n",
       "      <th>Actor 1</th>\n",
       "      <th>Actor 2</th>\n",
       "      <th>Actor 3</th>\n",
       "    </tr>\n",
       "  </thead>\n",
       "  <tbody>\n",
       "    <tr>\n",
       "      <th>0</th>\n",
       "      <td></td>\n",
       "      <td>NaN</td>\n",
       "      <td>NaN</td>\n",
       "      <td>Drama</td>\n",
       "      <td>NaN</td>\n",
       "      <td>NaN</td>\n",
       "      <td>J.S. Randhawa</td>\n",
       "      <td>Manmauji</td>\n",
       "      <td>Birbal</td>\n",
       "      <td>Rajendra Bhatia</td>\n",
       "    </tr>\n",
       "    <tr>\n",
       "      <th>1</th>\n",
       "      <td>#Gadhvi (He thought he was Gandhi)</td>\n",
       "      <td>(2019)</td>\n",
       "      <td>109 min</td>\n",
       "      <td>Drama</td>\n",
       "      <td>7.0</td>\n",
       "      <td>8</td>\n",
       "      <td>Gaurav Bakshi</td>\n",
       "      <td>Rasika Dugal</td>\n",
       "      <td>Vivek Ghamande</td>\n",
       "      <td>Arvind Jangid</td>\n",
       "    </tr>\n",
       "    <tr>\n",
       "      <th>2</th>\n",
       "      <td>#Homecoming</td>\n",
       "      <td>(2021)</td>\n",
       "      <td>90 min</td>\n",
       "      <td>Drama, Musical</td>\n",
       "      <td>NaN</td>\n",
       "      <td>NaN</td>\n",
       "      <td>Soumyajit Majumdar</td>\n",
       "      <td>Sayani Gupta</td>\n",
       "      <td>Plabita Borthakur</td>\n",
       "      <td>Roy Angana</td>\n",
       "    </tr>\n",
       "    <tr>\n",
       "      <th>3</th>\n",
       "      <td>#Yaaram</td>\n",
       "      <td>(2019)</td>\n",
       "      <td>110 min</td>\n",
       "      <td>Comedy, Romance</td>\n",
       "      <td>4.4</td>\n",
       "      <td>35</td>\n",
       "      <td>Ovais Khan</td>\n",
       "      <td>Prateik</td>\n",
       "      <td>Ishita Raj</td>\n",
       "      <td>Siddhant Kapoor</td>\n",
       "    </tr>\n",
       "    <tr>\n",
       "      <th>4</th>\n",
       "      <td>...And Once Again</td>\n",
       "      <td>(2010)</td>\n",
       "      <td>105 min</td>\n",
       "      <td>Drama</td>\n",
       "      <td>NaN</td>\n",
       "      <td>NaN</td>\n",
       "      <td>Amol Palekar</td>\n",
       "      <td>Rajat Kapoor</td>\n",
       "      <td>Rituparna Sengupta</td>\n",
       "      <td>Antara Mali</td>\n",
       "    </tr>\n",
       "  </tbody>\n",
       "</table>\n",
       "</div>"
      ],
      "text/plain": [
       "                                 Name    Year Duration            Genre  \\\n",
       "0                                         NaN      NaN            Drama   \n",
       "1  #Gadhvi (He thought he was Gandhi)  (2019)  109 min            Drama   \n",
       "2                         #Homecoming  (2021)   90 min   Drama, Musical   \n",
       "3                             #Yaaram  (2019)  110 min  Comedy, Romance   \n",
       "4                   ...And Once Again  (2010)  105 min            Drama   \n",
       "\n",
       "   Rating Votes            Director       Actor 1             Actor 2  \\\n",
       "0     NaN   NaN       J.S. Randhawa      Manmauji              Birbal   \n",
       "1     7.0     8       Gaurav Bakshi  Rasika Dugal      Vivek Ghamande   \n",
       "2     NaN   NaN  Soumyajit Majumdar  Sayani Gupta   Plabita Borthakur   \n",
       "3     4.4    35          Ovais Khan       Prateik          Ishita Raj   \n",
       "4     NaN   NaN        Amol Palekar  Rajat Kapoor  Rituparna Sengupta   \n",
       "\n",
       "           Actor 3  \n",
       "0  Rajendra Bhatia  \n",
       "1    Arvind Jangid  \n",
       "2       Roy Angana  \n",
       "3  Siddhant Kapoor  \n",
       "4      Antara Mali  "
      ]
     },
     "execution_count": 2,
     "metadata": {},
     "output_type": "execute_result"
    }
   ],
   "source": [
    "file_path = \"C:\\\\sahil\\\\project_folder\\\\codsoft task 2\\\\IMDb Movies India.csv\"  # Change if needed\n",
    "df = pd.read_csv(file_path, encoding='cp1252')\n",
    "df.head()"
   ]
  },
  {
   "cell_type": "markdown",
   "id": "73cccb0a",
   "metadata": {},
   "source": [
    "## 3. Data Overview"
   ]
  },
  {
   "cell_type": "code",
   "execution_count": 3,
   "id": "c4d7596e",
   "metadata": {},
   "outputs": [
    {
     "name": "stdout",
     "output_type": "stream",
     "text": [
      "<class 'pandas.core.frame.DataFrame'>\n",
      "RangeIndex: 15509 entries, 0 to 15508\n",
      "Data columns (total 10 columns):\n",
      " #   Column    Non-Null Count  Dtype  \n",
      "---  ------    --------------  -----  \n",
      " 0   Name      15509 non-null  object \n",
      " 1   Year      14981 non-null  object \n",
      " 2   Duration  7240 non-null   object \n",
      " 3   Genre     13632 non-null  object \n",
      " 4   Rating    7919 non-null   float64\n",
      " 5   Votes     7920 non-null   object \n",
      " 6   Director  14984 non-null  object \n",
      " 7   Actor 1   13892 non-null  object \n",
      " 8   Actor 2   13125 non-null  object \n",
      " 9   Actor 3   12365 non-null  object \n",
      "dtypes: float64(1), object(9)\n",
      "memory usage: 1.2+ MB\n"
     ]
    },
    {
     "data": {
      "text/html": [
       "<div>\n",
       "<style scoped>\n",
       "    .dataframe tbody tr th:only-of-type {\n",
       "        vertical-align: middle;\n",
       "    }\n",
       "\n",
       "    .dataframe tbody tr th {\n",
       "        vertical-align: top;\n",
       "    }\n",
       "\n",
       "    .dataframe thead th {\n",
       "        text-align: right;\n",
       "    }\n",
       "</style>\n",
       "<table border=\"1\" class=\"dataframe\">\n",
       "  <thead>\n",
       "    <tr style=\"text-align: right;\">\n",
       "      <th></th>\n",
       "      <th>count</th>\n",
       "      <th>unique</th>\n",
       "      <th>top</th>\n",
       "      <th>freq</th>\n",
       "      <th>mean</th>\n",
       "      <th>std</th>\n",
       "      <th>min</th>\n",
       "      <th>25%</th>\n",
       "      <th>50%</th>\n",
       "      <th>75%</th>\n",
       "      <th>max</th>\n",
       "    </tr>\n",
       "  </thead>\n",
       "  <tbody>\n",
       "    <tr>\n",
       "      <th>Name</th>\n",
       "      <td>15509</td>\n",
       "      <td>13838</td>\n",
       "      <td>Anjaam</td>\n",
       "      <td>7</td>\n",
       "      <td>NaN</td>\n",
       "      <td>NaN</td>\n",
       "      <td>NaN</td>\n",
       "      <td>NaN</td>\n",
       "      <td>NaN</td>\n",
       "      <td>NaN</td>\n",
       "      <td>NaN</td>\n",
       "    </tr>\n",
       "    <tr>\n",
       "      <th>Year</th>\n",
       "      <td>14981</td>\n",
       "      <td>102</td>\n",
       "      <td>(2019)</td>\n",
       "      <td>410</td>\n",
       "      <td>NaN</td>\n",
       "      <td>NaN</td>\n",
       "      <td>NaN</td>\n",
       "      <td>NaN</td>\n",
       "      <td>NaN</td>\n",
       "      <td>NaN</td>\n",
       "      <td>NaN</td>\n",
       "    </tr>\n",
       "    <tr>\n",
       "      <th>Duration</th>\n",
       "      <td>7240</td>\n",
       "      <td>182</td>\n",
       "      <td>120 min</td>\n",
       "      <td>240</td>\n",
       "      <td>NaN</td>\n",
       "      <td>NaN</td>\n",
       "      <td>NaN</td>\n",
       "      <td>NaN</td>\n",
       "      <td>NaN</td>\n",
       "      <td>NaN</td>\n",
       "      <td>NaN</td>\n",
       "    </tr>\n",
       "    <tr>\n",
       "      <th>Genre</th>\n",
       "      <td>13632</td>\n",
       "      <td>485</td>\n",
       "      <td>Drama</td>\n",
       "      <td>2780</td>\n",
       "      <td>NaN</td>\n",
       "      <td>NaN</td>\n",
       "      <td>NaN</td>\n",
       "      <td>NaN</td>\n",
       "      <td>NaN</td>\n",
       "      <td>NaN</td>\n",
       "      <td>NaN</td>\n",
       "    </tr>\n",
       "    <tr>\n",
       "      <th>Rating</th>\n",
       "      <td>7919.0</td>\n",
       "      <td>NaN</td>\n",
       "      <td>NaN</td>\n",
       "      <td>NaN</td>\n",
       "      <td>5.841621</td>\n",
       "      <td>1.381777</td>\n",
       "      <td>1.1</td>\n",
       "      <td>4.9</td>\n",
       "      <td>6.0</td>\n",
       "      <td>6.8</td>\n",
       "      <td>10.0</td>\n",
       "    </tr>\n",
       "    <tr>\n",
       "      <th>Votes</th>\n",
       "      <td>7920</td>\n",
       "      <td>2034</td>\n",
       "      <td>8</td>\n",
       "      <td>227</td>\n",
       "      <td>NaN</td>\n",
       "      <td>NaN</td>\n",
       "      <td>NaN</td>\n",
       "      <td>NaN</td>\n",
       "      <td>NaN</td>\n",
       "      <td>NaN</td>\n",
       "      <td>NaN</td>\n",
       "    </tr>\n",
       "    <tr>\n",
       "      <th>Director</th>\n",
       "      <td>14984</td>\n",
       "      <td>5938</td>\n",
       "      <td>Jayant Desai</td>\n",
       "      <td>58</td>\n",
       "      <td>NaN</td>\n",
       "      <td>NaN</td>\n",
       "      <td>NaN</td>\n",
       "      <td>NaN</td>\n",
       "      <td>NaN</td>\n",
       "      <td>NaN</td>\n",
       "      <td>NaN</td>\n",
       "    </tr>\n",
       "    <tr>\n",
       "      <th>Actor 1</th>\n",
       "      <td>13892</td>\n",
       "      <td>4718</td>\n",
       "      <td>Ashok Kumar</td>\n",
       "      <td>158</td>\n",
       "      <td>NaN</td>\n",
       "      <td>NaN</td>\n",
       "      <td>NaN</td>\n",
       "      <td>NaN</td>\n",
       "      <td>NaN</td>\n",
       "      <td>NaN</td>\n",
       "      <td>NaN</td>\n",
       "    </tr>\n",
       "    <tr>\n",
       "      <th>Actor 2</th>\n",
       "      <td>13125</td>\n",
       "      <td>4891</td>\n",
       "      <td>Rekha</td>\n",
       "      <td>83</td>\n",
       "      <td>NaN</td>\n",
       "      <td>NaN</td>\n",
       "      <td>NaN</td>\n",
       "      <td>NaN</td>\n",
       "      <td>NaN</td>\n",
       "      <td>NaN</td>\n",
       "      <td>NaN</td>\n",
       "    </tr>\n",
       "    <tr>\n",
       "      <th>Actor 3</th>\n",
       "      <td>12365</td>\n",
       "      <td>4820</td>\n",
       "      <td>Pran</td>\n",
       "      <td>91</td>\n",
       "      <td>NaN</td>\n",
       "      <td>NaN</td>\n",
       "      <td>NaN</td>\n",
       "      <td>NaN</td>\n",
       "      <td>NaN</td>\n",
       "      <td>NaN</td>\n",
       "      <td>NaN</td>\n",
       "    </tr>\n",
       "  </tbody>\n",
       "</table>\n",
       "</div>"
      ],
      "text/plain": [
       "           count unique           top  freq      mean       std  min  25%  \\\n",
       "Name       15509  13838        Anjaam     7       NaN       NaN  NaN  NaN   \n",
       "Year       14981    102        (2019)   410       NaN       NaN  NaN  NaN   \n",
       "Duration    7240    182       120 min   240       NaN       NaN  NaN  NaN   \n",
       "Genre      13632    485         Drama  2780       NaN       NaN  NaN  NaN   \n",
       "Rating    7919.0    NaN           NaN   NaN  5.841621  1.381777  1.1  4.9   \n",
       "Votes       7920   2034             8   227       NaN       NaN  NaN  NaN   \n",
       "Director   14984   5938  Jayant Desai    58       NaN       NaN  NaN  NaN   \n",
       "Actor 1    13892   4718   Ashok Kumar   158       NaN       NaN  NaN  NaN   \n",
       "Actor 2    13125   4891         Rekha    83       NaN       NaN  NaN  NaN   \n",
       "Actor 3    12365   4820          Pran    91       NaN       NaN  NaN  NaN   \n",
       "\n",
       "          50%  75%   max  \n",
       "Name      NaN  NaN   NaN  \n",
       "Year      NaN  NaN   NaN  \n",
       "Duration  NaN  NaN   NaN  \n",
       "Genre     NaN  NaN   NaN  \n",
       "Rating    6.0  6.8  10.0  \n",
       "Votes     NaN  NaN   NaN  \n",
       "Director  NaN  NaN   NaN  \n",
       "Actor 1   NaN  NaN   NaN  \n",
       "Actor 2   NaN  NaN   NaN  \n",
       "Actor 3   NaN  NaN   NaN  "
      ]
     },
     "execution_count": 3,
     "metadata": {},
     "output_type": "execute_result"
    }
   ],
   "source": [
    "df.info()\n",
    "\n",
    "df.describe(include='all').T"
   ]
  },
  {
   "cell_type": "markdown",
   "id": "d161c099",
   "metadata": {},
   "source": [
    "## 4. Missing Values & Rating Distribution"
   ]
  },
  {
   "cell_type": "code",
   "execution_count": 4,
   "id": "6d4ae95e",
   "metadata": {},
   "outputs": [
    {
     "name": "stdout",
     "output_type": "stream",
     "text": [
      "Name           0\n",
      "Year         528\n",
      "Duration    8269\n",
      "Genre       1877\n",
      "Rating      7590\n",
      "Votes       7589\n",
      "Director     525\n",
      "Actor 1     1617\n",
      "Actor 2     2384\n",
      "Actor 3     3144\n",
      "dtype: int64\n"
     ]
    },
    {
     "data": {
      "image/png": "[encoded data removed]",
      "text/plain": [
       "<Figure size 600x400 with 1 Axes>"
      ]
     },
     "metadata": {},
     "output_type": "display_data"
    }
   ],
   "source": [
    "print(df.isnull().sum())\n",
    "\n",
    "df['Rating'] = pd.to_numeric(df['Rating'], errors='coerce')\n",
    "plt.figure(figsize=(6,4))\n",
    "df['Rating'].dropna().hist(bins=20)\n",
    "plt.xlabel('Rating')\n",
    "plt.ylabel('Count')\n",
    "plt.title('IMDb Rating Distribution')\n",
    "plt.show()"
   ]
  },
  {
   "cell_type": "markdown",
   "id": "27f6ddcf",
   "metadata": {},
   "source": [
    "## 5. Feature Engineering"
   ]
  },
  {
   "cell_type": "code",
   "execution_count": 5,
   "id": "b3886189",
   "metadata": {},
   "outputs": [
    {
     "data": {
      "text/plain": [
       "((7919, 99), (7919,))"
      ]
     },
     "execution_count": 5,
     "metadata": {},
     "output_type": "execute_result"
    }
   ],
   "source": [
    "def build_features(df, top_directors=None, top_actors=None, all_genres=None):\n",
    "    out = pd.DataFrame(index=df.index)\n",
    "    # Numeric features\n",
    "    out['Year_num'] = pd.to_numeric(df['Year'], errors='coerce').fillna(0)\n",
    "    out['Duration_num'] = pd.to_numeric(df['Duration'], errors='coerce').fillna(0)\n",
    "    votes = pd.to_numeric(df['Votes'].astype(str).str.replace(',',''), errors='coerce').fillna(0)\n",
    "    out['log_votes'] = np.log1p(votes)\n",
    "    # Fill empty strings for categorical handling\n",
    "    df = df.fillna('')\n",
    "    # Genres\n",
    "    if all_genres is None:\n",
    "        genre_counts = df['Genre'].str.split(',').explode().str.strip().value_counts()\n",
    "        all_genres = genre_counts[genre_counts>100].index.tolist()\n",
    "    for g in all_genres:\n",
    "        out[f'genre_{g}'] = df['Genre'].apply(lambda v: int(g in str(v)))\n",
    "    # Directors\n",
    "    if top_directors is None:\n",
    "        top_directors = df['Director'].value_counts().head(30).index.tolist()\n",
    "    for d in top_directors:\n",
    "        out[f'dir_{d}'] = (df['Director']==d).astype(int)\n",
    "    # Actors\n",
    "    if top_actors is None:\n",
    "        actors = pd.concat([df['Actor 1'], df['Actor 2'], df['Actor 3']])\n",
    "        top_actors = actors.value_counts().head(50).index.tolist()\n",
    "    for a in top_actors:\n",
    "        out[f'actor_{a}'] = ((df['Actor 1']==a)|(df['Actor 2']==a)|(df['Actor 3']==a)).astype(int)\n",
    "    return out, top_directors, top_actors, all_genres\n",
    "\n",
    "# Prepare data\n",
    "df_model = df.dropna(subset=['Rating']).copy()\n",
    "X, top_directors, top_actors, all_genres = build_features(df_model)\n",
    "y = df_model['Rating']\n",
    "X.shape, y.shape"
   ]
  },
  {
   "cell_type": "markdown",
   "id": "2c275eb2",
   "metadata": {},
   "source": [
    "## 6. Train-Test Split"
   ]
  },
  {
   "cell_type": "code",
   "execution_count": 6,
   "id": "3a2e0906",
   "metadata": {},
   "outputs": [
    {
     "data": {
      "text/plain": [
       "((6335, 99), (1584, 99))"
      ]
     },
     "execution_count": 6,
     "metadata": {},
     "output_type": "execute_result"
    }
   ],
   "source": [
    "X_train, X_test, y_train, y_test = train_test_split(X, y, test_size=0.2, random_state=42)\n",
    "X_train.shape, X_test.shape"
   ]
  },
  {
   "cell_type": "markdown",
   "id": "4da08d43-4fcb-48fa-aa07-3222e54ce713",
   "metadata": {},
   "source": [
    "## 7. Train Multiple Models"
   ]
  },
  {
   "cell_type": "code",
   "execution_count": 14,
   "id": "4dba6e9b",
   "metadata": {},
   "outputs": [
    {
     "name": "stdout",
     "output_type": "stream",
     "text": [
      "\n",
      "Training the Random Forest Regressor...\n",
      "\n",
      "Model Evaluation Results:\n",
      "Mean Absolute Error (MAE): 0.9475\n",
      "Mean Squared Error (MSE): 1.4363\n",
      "Root Mean Squared Error (RMSE): 1.1985\n",
      "R-squared (R²): 0.2274\n"
     ]
    }
   ],
   "source": [
    "# Step 4: Model Training and Evaluation\n",
    "# Train the model using the training data.\n",
    "print(\"\\nTraining the Random Forest Regressor...\")\n",
    "model.fit(X_train, y_train)\n",
    "\n",
    "# Make predictions on the test data.\n",
    "y_pred = model.predict(X_test)\n",
    "\n",
    "# Evaluate the model's performance using common regression metrics.\n",
    "# MAE: Mean Absolute Error - The average absolute difference between predicted and actual values. Lower is better.\n",
    "mae = mean_absolute_error(y_test, y_pred)\n",
    "# MSE: Mean Squared Error - The average of the squared differences. Penalizes larger errors more. Lower is better.\n",
    "mse = mean_squared_error(y_test, y_pred)\n",
    "# RMSE: Root Mean Squared Error - The square root of the MSE. It's in the same unit as the target variable (Rating).\n",
    "rmse = np.sqrt(mse)\n",
    "# R-squared: R² score - The proportion of variance explained by the model. Closer to 1 is better.\n",
    "r2 = r2_score(y_test, y_pred)\n",
    "\n",
    "print(\"\\nModel Evaluation Results:\")\n",
    "print(f\"Mean Absolute Error (MAE): {mae:.4f}\")\n",
    "print(f\"Mean Squared Error (MSE): {mse:.4f}\")\n",
    "print(f\"Root Mean Squared Error (RMSE): {rmse:.4f}\")\n",
    "print(f\"R-squared (R²): {r2:.4f}\")"
   ]
  },
  {
   "cell_type": "markdown",
   "id": "4242f81a",
   "metadata": {},
   "source": [
    "## 8. Feature Importances (Tree-based Models)"
   ]
  },
  {
   "cell_type": "code",
   "execution_count": 9,
   "id": "a4157a9c",
   "metadata": {},
   "outputs": [
    {
     "data": {
      "image/png": "[encoded data removed]",
      "text/plain": [
       "<Figure size 800x400 with 1 Axes>"
      ]
     },
     "metadata": {},
     "output_type": "display_data"
    }
   ],
   "source": [
    "best_model = models['RandomForest']\n",
    "importances = best_model.feature_importances_\n",
    "idx = np.argsort(importances)[-15:][::-1]\n",
    "plt.figure(figsize=(8,4))\n",
    "plt.bar(range(len(idx)), importances[idx])\n",
    "plt.xticks(range(len(idx)), [X.columns[i] for i in idx], rotation=90)\n",
    "plt.title('Top 15 Feature Importances (RandomForest)')\n",
    "plt.show()"
   ]
  },
  {
   "cell_type": "markdown",
   "id": "47d47149",
   "metadata": {},
   "source": [
    "## 9. Save Model"
   ]
  },
  {
   "cell_type": "code",
   "execution_count": 10,
   "id": "5a70e3e4",
   "metadata": {},
   "outputs": [
    {
     "name": "stdout",
     "output_type": "stream",
     "text": [
      "Model saved as imdb_rating_model.pkl\n"
     ]
    }
   ],
   "source": [
    "bundle = {\n",
    "    'model': best_model,\n",
    "    'features': X.columns.tolist(),\n",
    "    'top_directors': top_directors,\n",
    "    'top_actors': top_actors,\n",
    "    'all_genres': all_genres\n",
    "}\n",
    "joblib.dump(bundle, 'imdb_rating_model.pkl')\n",
    "print('Model saved as imdb_rating_model.pkl')"
   ]
  },
  {
   "cell_type": "markdown",
   "id": "ccdc50d4",
   "metadata": {},
   "source": [
    "## 10. Predict on New Movies"
   ]
  },
  {
   "cell_type": "code",
   "execution_count": 11,
   "id": "86521efc",
   "metadata": {},
   "outputs": [
    {
     "data": {
      "text/html": [
       "<div>\n",
       "<style scoped>\n",
       "    .dataframe tbody tr th:only-of-type {\n",
       "        vertical-align: middle;\n",
       "    }\n",
       "\n",
       "    .dataframe tbody tr th {\n",
       "        vertical-align: top;\n",
       "    }\n",
       "\n",
       "    .dataframe thead th {\n",
       "        text-align: right;\n",
       "    }\n",
       "</style>\n",
       "<table border=\"1\" class=\"dataframe\">\n",
       "  <thead>\n",
       "    <tr style=\"text-align: right;\">\n",
       "      <th></th>\n",
       "      <th>Name</th>\n",
       "      <th>Year</th>\n",
       "      <th>Rating</th>\n",
       "      <th>Predicted_Rating</th>\n",
       "    </tr>\n",
       "  </thead>\n",
       "  <tbody>\n",
       "    <tr>\n",
       "      <th>0</th>\n",
       "      <td></td>\n",
       "      <td>NaN</td>\n",
       "      <td>NaN</td>\n",
       "      <td>6.206301</td>\n",
       "    </tr>\n",
       "    <tr>\n",
       "      <th>1</th>\n",
       "      <td>#Gadhvi (He thought he was Gandhi)</td>\n",
       "      <td>(2019)</td>\n",
       "      <td>7.0</td>\n",
       "      <td>6.654230</td>\n",
       "    </tr>\n",
       "    <tr>\n",
       "      <th>2</th>\n",
       "      <td>#Homecoming</td>\n",
       "      <td>(2021)</td>\n",
       "      <td>NaN</td>\n",
       "      <td>5.758730</td>\n",
       "    </tr>\n",
       "    <tr>\n",
       "      <th>3</th>\n",
       "      <td>#Yaaram</td>\n",
       "      <td>(2019)</td>\n",
       "      <td>4.4</td>\n",
       "      <td>4.756367</td>\n",
       "    </tr>\n",
       "    <tr>\n",
       "      <th>4</th>\n",
       "      <td>...And Once Again</td>\n",
       "      <td>(2010)</td>\n",
       "      <td>NaN</td>\n",
       "      <td>6.206301</td>\n",
       "    </tr>\n",
       "  </tbody>\n",
       "</table>\n",
       "</div>"
      ],
      "text/plain": [
       "                                 Name    Year  Rating  Predicted_Rating\n",
       "0                                         NaN     NaN          6.206301\n",
       "1  #Gadhvi (He thought he was Gandhi)  (2019)     7.0          6.654230\n",
       "2                         #Homecoming  (2021)     NaN          5.758730\n",
       "3                             #Yaaram  (2019)     4.4          4.756367\n",
       "4                   ...And Once Again  (2010)     NaN          6.206301"
      ]
     },
     "execution_count": 11,
     "metadata": {},
     "output_type": "execute_result"
    }
   ],
   "source": [
    "# Example: use same df for demonstration\n",
    "X_new, _, _, _ = build_features(df, top_directors, top_actors, all_genres)\n",
    "model = joblib.load('imdb_rating_model.pkl')['model']\n",
    "preds = model.predict(X_new)\n",
    "df['Predicted_Rating'] = preds\n",
    "df[['Name', 'Year', 'Rating', 'Predicted_Rating']].head()"
   ]
  },
  {
   "cell_type": "code",
   "execution_count": 18,
   "id": "e0a90d30-de15-485a-84f3-8a5a353b89f2",
   "metadata": {},
   "outputs": [
    {
     "name": "stdout",
     "output_type": "stream",
     "text": [
      "🎬 Predicted IMDb Rating for 'Test Movie': 7.74\n"
     ]
    }
   ],
   "source": [
    "import pandas as pd\n",
    "import joblib\n",
    "import numpy as np\n",
    "\n",
    "# Load the model bundle\n",
    "bundle = joblib.load(\"imdb_rating_model.pkl\")\n",
    "model = bundle['model']\n",
    "top_directors = bundle['top_directors']\n",
    "top_actors = bundle['top_actors']\n",
    "all_genres = bundle['all_genres']\n",
    "\n",
    "# Reuse the feature engineering function\n",
    "def build_features(df, top_directors, top_actors, all_genres):\n",
    "    out = pd.DataFrame(index=df.index)\n",
    "\n",
    "    # Numeric features\n",
    "    out['Year_num'] = pd.to_numeric(df['Year'], errors='coerce').fillna(0)\n",
    "    out['Duration_num'] = pd.to_numeric(df['Duration'], errors='coerce').fillna(0)\n",
    "    votes = pd.to_numeric(df['Votes'].astype(str).str.replace(',', ''), errors='coerce').fillna(0)\n",
    "    out['log_votes'] = np.log1p(votes)\n",
    "\n",
    "    # Fill empty strings for categorical handling\n",
    "    df = df.fillna('')\n",
    "\n",
    "    # Genres\n",
    "    for g in all_genres:\n",
    "        out[f'genre_{g}'] = df['Genre'].apply(lambda v: int(g in str(v)))\n",
    "\n",
    "    # Directors\n",
    "    for d in top_directors:\n",
    "        out[f'dir_{d}'] = (df['Director'] == d).astype(int)\n",
    "\n",
    "    # Actors\n",
    "    for a in top_actors:\n",
    "        out[f'actor_{a}'] = (\n",
    "            (df['Actor 1'] == a) |\n",
    "            (df['Actor 2'] == a) |\n",
    "            (df['Actor 3'] == a)\n",
    "        ).astype(int)\n",
    "\n",
    "    return out\n",
    "\n",
    "# Example: predict rating for a new movie\n",
    "new_movie = pd.DataFrame([{\n",
    "    \"Name\": \"Test Movie\",\n",
    "    \"Year\": 2025,\n",
    "    \"Duration\": 140,\n",
    "    \"Genre\": \"Drama, Action\",\n",
    "    \"Director\": \"Rajkumar Hirani\",\n",
    "    \"Actor 1\": \"Aamir Khan\",\n",
    "    \"Actor 2\": \"Kareena Kapoor\",\n",
    "    \"Actor 3\": \"Sharman Joshi\",\n",
    "    \"Votes\": \"50000\"\n",
    "}])\n",
    "\n",
    "# Build features and predict\n",
    "X_new = build_features(new_movie, top_directors, top_actors, all_genres)\n",
    "predicted_rating = model.predict(X_new)[0]\n",
    "\n",
    "print(f\"🎬 Predicted IMDb Rating for '{new_movie['Name'][0]}': {predicted_rating:.2f}\")\n"
   ]
  },
  {
   "cell_type": "code",
   "execution_count": null,
   "id": "5006a5c4-45a6-428d-a198-2f030e3dc3ea",
   "metadata": {},
   "outputs": [],
   "source": []
  }
 ],
 "metadata": {
  "kernelspec": {
   "display_name": "Python 3 (ipykernel)",
   "language": "python",
   "name": "python3"
  },
  "language_info": {
   "codemirror_mode": {
    "name": "ipython",
    "version": 3
   },
   "file_extension": ".py",
   "mimetype": "text/x-python",
   "name": "python",
   "nbconvert_exporter": "python",
   "pygments_lexer": "ipython3",
   "version": "3.12.7"
  }
 },
 "nbformat": 4,
 "nbformat_minor": 5
}
